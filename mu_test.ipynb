{
 "cells": [
  {
   "cell_type": "code",
   "execution_count": 1,
   "metadata": {},
   "outputs": [],
   "source": [
    "import mu\n",
    "import csv"
   ]
  },
  {
   "cell_type": "code",
   "execution_count": 2,
   "metadata": {},
   "outputs": [
    {
     "name": "stdout",
     "output_type": "stream",
     "text": [
      "New String: miu\n",
      "Rule I: False\n",
      "Rule II: True\n",
      "Rule III: False\n",
      "Rule IV: False\n",
      "New String: miuiu\n",
      "Rule I: False\n",
      "Rule II: True\n",
      "Rule III: False\n",
      "Rule IV: False\n"
     ]
    }
   ],
   "source": [
    "x = mu.MU()\n",
    "x.ruleI()\n",
    "x.ruleII()"
   ]
  },
  {
   "cell_type": "code",
   "execution_count": 3,
   "metadata": {},
   "outputs": [
    {
     "data": {
      "text/plain": [
       "[['mi', [True, True, False, False]], ['miu', [False, True, False, False]], ['miuiu', [False, True, False, False]]]"
      ]
     },
     "execution_count": 3,
     "metadata": {},
     "output_type": "execute_result"
    }
   ],
   "source": [
    "x"
   ]
  },
  {
   "cell_type": "code",
   "execution_count": 4,
   "metadata": {},
   "outputs": [
    {
     "name": "stdout",
     "output_type": "stream",
     "text": [
      "String: mi\n",
      "RuleI: True\n",
      "RuleII: True\n",
      "RuleIII: False\n",
      "RuleIV: False\n",
      "\n",
      "String: miu\n",
      "RuleI: False\n",
      "RuleII: True\n",
      "RuleIII: False\n",
      "RuleIV: False\n",
      "\n",
      "String: miuiu\n",
      "RuleI: False\n",
      "RuleII: True\n",
      "RuleIII: False\n",
      "RuleIV: False\n",
      "\n",
      "\n"
     ]
    }
   ],
   "source": [
    "print(x)"
   ]
  },
  {
   "cell_type": "code",
   "execution_count": 5,
   "metadata": {},
   "outputs": [
    {
     "name": "stdout",
     "output_type": "stream",
     "text": [
      "file namefoo\n"
     ]
    }
   ],
   "source": [
    "x.save()"
   ]
  },
  {
   "cell_type": "code",
   "execution_count": 57,
   "metadata": {},
   "outputs": [],
   "source": []
  },
  {
   "cell_type": "code",
   "execution_count": 80,
   "metadata": {},
   "outputs": [
    {
     "name": "stdout",
     "output_type": "stream",
     "text": [
      "muu\n",
      "[True, False, True, False]\n",
      "muu\n",
      "[True, True, True, True]\n"
     ]
    },
    {
     "data": {
      "text/plain": [
       "[['muu', [True, False, True, False]], ['muu', [True, True, True, True]]]"
      ]
     },
     "execution_count": 80,
     "metadata": {},
     "output_type": "execute_result"
    }
   ],
   "source": [
    "h = []\n",
    "for i in hist:\n",
    "    string = i[0]\n",
    "    opts = i[1]\n",
    "    opts = opts.strip('[]')\n",
    "    opts = opts.split(', ')    \n",
    "    for o in opts:\n",
    "#         print(o)\n",
    "        w = []\n",
    "        for i in opts:\n",
    "            if i == 'True':\n",
    "                w.append(True)\n",
    "            else:\n",
    "                w.append(False)\n",
    "\n",
    "    x = ['ddddddddd']\n",
    "    h.append([string, w])\n",
    "        \n",
    "        \n",
    "\n",
    "h\n",
    "\n",
    "\n",
    "\n",
    "# opts = q[0][1]\n",
    "# opts=opts.strip('[]')\n",
    "# opts = opts.split(', ')\n",
    "# opts"
   ]
  },
  {
   "cell_type": "code",
   "execution_count": 55,
   "metadata": {},
   "outputs": [
    {
     "name": "stdout",
     "output_type": "stream",
     "text": [
      "True\n",
      "False\n",
      "True\n",
      "False\n"
     ]
    },
    {
     "data": {
      "text/plain": [
       "[True, False, True, False]"
      ]
     },
     "execution_count": 55,
     "metadata": {},
     "output_type": "execute_result"
    }
   ],
   "source": [
    "w = []\n",
    "for i in opts:\n",
    "    print(i)\n",
    "    if i == 'True':\n",
    "        w.append(True)\n",
    "    else:\n",
    "        w.append(False)\n",
    "w"
   ]
  },
  {
   "cell_type": "code",
   "execution_count": null,
   "metadata": {},
   "outputs": [],
   "source": []
  }
 ],
 "metadata": {
  "kernelspec": {
   "display_name": "Python 3",
   "language": "python",
   "name": "python3"
  },
  "language_info": {
   "codemirror_mode": {
    "name": "ipython",
    "version": 3
   },
   "file_extension": ".py",
   "mimetype": "text/x-python",
   "name": "python",
   "nbconvert_exporter": "python",
   "pygments_lexer": "ipython3",
   "version": "3.6.9"
  },
  "varInspector": {
   "cols": {
    "lenName": 16,
    "lenType": 16,
    "lenVar": 40
   },
   "kernels_config": {
    "python": {
     "delete_cmd_postfix": "",
     "delete_cmd_prefix": "del ",
     "library": "var_list.py",
     "varRefreshCmd": "print(var_dic_list())"
    },
    "r": {
     "delete_cmd_postfix": ") ",
     "delete_cmd_prefix": "rm(",
     "library": "var_list.r",
     "varRefreshCmd": "cat(var_dic_list()) "
    }
   },
   "types_to_exclude": [
    "module",
    "function",
    "builtin_function_or_method",
    "instance",
    "_Feature"
   ],
   "window_display": false
  }
 },
 "nbformat": 4,
 "nbformat_minor": 4
}
